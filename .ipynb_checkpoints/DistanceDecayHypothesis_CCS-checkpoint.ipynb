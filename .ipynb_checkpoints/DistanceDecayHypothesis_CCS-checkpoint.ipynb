{
 "cells": [
  {
   "cell_type": "markdown",
   "metadata": {},
   "source": [
    "# Testing the Distance Decay Hypothesis\n",
    "## Problem Statement:\n",
    "Lat/Lon data has historically not been captured for crimes. <br>\n",
    "As a special exercise, 227 road-robberies in WBP jurisdiction from 2010-15 were mapped for Crime Criminal Search,CCS (https://www.wbpcrime.info).<br>\n",
    "For authorized police-officers , CCS is a web-accessible database of 651749 records of crimes, 695709 criminals, and 769210 linkages between the two. When it was launched in 2015, it had about 1.5 lakh records of each. It has grown entirely by voluntary effort of the police community in West Bengal.<br>\n",
    ".......<br>\n",
    "Even so, lat/lon of criminals' addresses was not available.</br>\n",
    "For this exercise, the geocoding API of Google Maps was used to get approximate matches from the string representation of their addresses.\n",
    "The PS of the criminals' address is known in some cases. Google Maps was queried with the string to give matches within 20 km of the PS location (which is there in the CCS database)"
   ]
  },
  {
   "cell_type": "code",
   "execution_count": 2,
   "metadata": {},
   "outputs": [],
   "source": [
    "# Database management libraries\n",
    "import re\n",
    "import os\n",
    "from sqlalchemy import MetaData,create_engine,Table,select,Column,Integer\\\n",
    ",Float,String,Text,select, ForeignKey,ForeignKeyConstraint\n",
    "from sqlalchemy.ext.declarative import declarative_base\n",
    "from sqlalchemy.orm import sessionmaker, relationship\n",
    "from geoalchemy2 import Geometry\n",
    "import csv\n",
    "# Google Maps Api library\n",
    "import googlemaps\n",
    "import requests \n",
    "import urllib.parse\n",
    "# Plotting with Bokeh\n",
    "from bokeh.io import output_notebook, show, push_notebook\n",
    "from bokeh.models import ColumnDataSource, GMapOptions,Legend, LegendItem\n",
    "from bokeh.plotting import gmap\n",
    "from pyproj import Proj, Geod\n",
    "import time\n",
    "import pandas as pd\n",
    "from matplotlib.figure import Figure\n",
    "from ipywidgets.embed import embed_minimal_html\n",
    "from maps import getBoundsZoomLevel,map_\n",
    "g = Geod(ellps='WGS84')\n",
    "metadata = MetaData()\n",
    "engine = create_engine('postgresql+psycopg2://sanjaysingh:@localhost/crime_criminal2_development')\n",
    "conn = engine.connect()\n",
    "alphanumeric = re.compile(r'[^a-zA-Z0-9\\-\\s,]')\n",
    "ps_remover = re.compile(r'(P\\.S\\.|PS|Ps|P.S).*')\n",
    "village_remover = re.compile(r'Vill\\-|Vill\\.|Vill ',re.IGNORECASE)"
   ]
  },
  {
   "cell_type": "markdown",
   "metadata": {},
   "source": [
    "### *get_google_place* is a function to extract the location of an address, given a string represntation of it. "
   ]
  },
  {
   "cell_type": "code",
   "execution_count": 4,
   "metadata": {},
   "outputs": [],
   "source": [
    "# We use the geocoding API of Google maps\n",
    "# We try with both, a longer string (like \"17/1, Bhattacharjee Para Lane, PS Baranagar , Baranagar , North 24 Pgs.\") \n",
    "# and a stripped one (like \"17 1, Bhattacharjee Para Lane\") and chose the best fit.\n",
    "def get_google_place(full_text,text ,location):\n",
    "    address_lon = None\n",
    "    address_lat = None\n",
    "    formatted_address =None\n",
    "    lon,lat = location\n",
    "    stripped_distance = 100000\n",
    "    full_distance = 100000\n",
    "    distance = None\n",
    "    stripped_formatted_address = None\n",
    "    full_formatted_address = None\n",
    "    selected_address = None\n",
    "    try:\n",
    "        # We know the Police Station of the criminal's address in some cases. We have lat-lon data for all PSs\n",
    "        # We give a 20 km radius from it's location for an acceptable match.\n",
    "        URL = (f\"https://maps.googleapis.com/maps/api/place/findplacefromtext/json?input={urllib.parse.quote(text)}&inputtype=textquery&fields=formatted_address&locationbias=circle:20000@{lat},{lon}&key={map_}\")\n",
    "        r = requests.get(url = URL)\n",
    "        data = r.json()\n",
    "        if data[\"status\"] == \"OK\":\n",
    "            stripped_formatted_address = data[\"candidates\"][0][\"formatted_address\"]\n",
    "            URL = f\"https://maps.googleapis.com/maps/api/geocode/json?address={urllib.parse.quote(stripped_formatted_address)}&key={map_}\"\n",
    "            r = requests.get(url = URL)\n",
    "            data = r.json()                 \n",
    "            stripped_address_lat = data[\"results\"][0][\"geometry\"][\"location\"][\"lat\"]\n",
    "            stripped_address_lon = data[\"results\"][0][\"geometry\"][\"location\"][\"lng\"]\n",
    "            (az12, az21, stripped_distance) = g.inv(lon, lat, stripped_address_lon, stripped_address_lat)\n",
    "        ##############\n",
    "        URL = (f\"https://maps.googleapis.com/maps/api/place/findplacefromtext/json?input=\\\n",
    "        {urllib.parse.quote(full_text)}&inputtype=textquery\\\n",
    "        &fields=formatted_address&locationbias=circle:20000@{lat},{lon}&key={map_}\")\n",
    "        r = requests.get(url = URL)\n",
    "        data = r.json()\n",
    "        if data[\"status\"] == \"OK\":\n",
    "            full_formatted_address = data[\"candidates\"][0][\"formatted_address\"]\n",
    "            URL = (f\"https://maps.googleapis.com/maps/api/geocode/json?address=\\\n",
    "            {urllib.parse.quote(full_formatted_address)}&key={api_key}\")\n",
    "            r = requests.get(url = URL)\n",
    "            data = r.json()                 \n",
    "            full_address_lat = data[\"results\"][0][\"geometry\"][\"location\"][\"lat\"]\n",
    "            full_address_lon = data[\"results\"][0][\"geometry\"][\"location\"][\"lng\"]\n",
    "            (az12, az21, full_distance) = g.inv(lon, lat, full_address_lon, full_address_lat)\n",
    "        if stripped_distance < full_distance:\n",
    "            formatted_address = stripped_formatted_address\n",
    "            address_lon = stripped_address_lon\n",
    "            address_lat = stripped_address_lat\n",
    "            selected_address = \"stripped\"\n",
    "            distance = stripped_distance\n",
    "        else:\n",
    "            formatted_address = full_formatted_address\n",
    "            address_lon = full_address_lon\n",
    "            address_lat = full_address_lat\n",
    "            selected_address = \"full\"\n",
    "            distance = full_distance\n",
    "    except Exception as e:\n",
    "        print(f\"no address due to {str(e)}\")\n",
    "    return (formatted_address,address_lon,address_lat,selected_address,distance)"
   ]
  },
  {
   "cell_type": "markdown",
   "metadata": {},
   "source": [
    "### We set up our database\n",
    "### We query the database to Select cases of robberies that also have location data.\n",
    "### Lastly, we use the previously defined *get_google_place* function to get lat/lon of criminal's address.\n",
    "\n",
    "|Table    | Information|\n",
    "|---------|------------|\n",
    "|crimes   |crimes with ps_id, case_no, dt, sections, gist|\n",
    "|locations| (lon,lat) and crime_id|\n",
    "|involvements| the linking table between crimes and criminals. Has crime_id and criminal_id|\n",
    "|police_stations| Is the parent table for crimes as well as for address police station of criminals|\n",
    "|adresses| adresss description of criminal. Has a ps_id which links to police_stations table|\n"
   ]
  },
  {
   "cell_type": "code",
   "execution_count": 5,
   "metadata": {},
   "outputs": [],
   "source": [
    "# Select cases of robberies that also have location data from database. \n",
    "# Use the previously defined function to get lat/lon of criminal's address.\n",
    "def crimes_with_location():\n",
    "    metadata.reflect(bind=engine)\n",
    "    locations = metadata.tables[\"locations\"]\n",
    "    crimes = metadata.tables[\"crimes\"]\n",
    "    involvements = metadata.tables[\"involvements\"]\n",
    "    criminals = metadata.tables[\"criminals\"]\n",
    "    police_stations = metadata.tables[\"police_stations\"]\n",
    "    addresses = metadata.tables[\"addresses\"]\n",
    "\n",
    "    locations.append_constraint(ForeignKeyConstraint([\"crime_id\"],[\"crimes.id\"]))\n",
    "    involvements.append_constraint(ForeignKeyConstraint([\"crime_id\"],[\"crimes.id\"]))\n",
    "    involvements.append_constraint(ForeignKeyConstraint([\"criminal_id\"],[\"criminals.id\"]))\n",
    "    crimes.append_constraint(ForeignKeyConstraint([\"police_station_id\"],[\"police_stations.id\"]))\n",
    "    addresses.append_constraint(ForeignKeyConstraint([\"criminal_id\"],[\"criminals.id\"]))\n",
    "    addresses.append_constraint(ForeignKeyConstraint([\"police_station_id\"],[\"police_stations.id\"]))\n",
    "    ######\n",
    "    filename = \"distance_decay_hypothesis_2.csv\"\n",
    "    with open(os.path.join(filename), 'w+', newline='') as csvfile:\n",
    "        csvrow = csv.writer(csvfile, delimiter=',')\n",
    "        csvrow.writerow([\"Crime ID\",\"Case\",\"Place of Occurance\",\"Criminal ID\",\\\n",
    "                         \"Criminal\",\"Address ID\", \"Address\",\"Stripped Address\",\"Google Suggested Address\",\\\n",
    "                         \"Selected Address\", \"Address Location\",\"PS Distance\", \"Address P.S.\",\\\n",
    "                         \"Address P.S Location\"])\n",
    "    ########\n",
    "        query = (\n",
    "        select([crimes.c.id,police_stations.c.name,crimes.c.case_no,crimes.c.case_date,\\\n",
    "                crimes.c.sections,locations.c.lonlat_x, locations.c.lonlat_y]).\n",
    "        select_from(crimes\n",
    "                    .join(police_stations)\n",
    "                    .join(locations)\n",
    "                    )).where(crimes.c.sections.like(\"%394%\"))\n",
    "        robberies = conn.execute(query).fetchall()\n",
    "        for robbery in robberies:\n",
    "            case = f\"{robbery[1]} P.S. C/No. {robbery[2]}, dt. {robbery[3].strftime('%d/%m/%Y')} u/s {robbery[4]}\"\n",
    "            location = (robbery[5],robbery[6])\n",
    "            case_id = robbery[0]\n",
    "            robbery_involvements = select([criminals.c.id,criminals.c.first_name,criminals.c.last_name]).\\\n",
    "            select_from(involvements.join(criminals)).where(involvements.c.crime_id == robbery[0])\n",
    "            robbers = conn.execute(robbery_involvements).fetchall()\n",
    "            for robber in robbers:\n",
    "                robber_name = f\"{robber[1]} {robber[2]}\"\n",
    "                robber_id = robber[0]\n",
    "                robber_address_query = select([addresses.c.id, addresses.c.name,police_stations.c.name,\\\n",
    "                                               police_stations.c.lonlat.ST_AsText()]).\\\n",
    "                select_from(addresses.join(police_stations)).where(addresses.c.criminal_id == robber[0])\n",
    "                robber_address = conn.execute(robber_address_query).first()\n",
    "                if robber_address:\n",
    "                    robber_first_address_id = robber_address[0]\n",
    "                    robber_first_address = robber_address[1]\n",
    "                    robber_first_address_police_station = robber_address[2]\n",
    "                    robber_first_address_police_station_lon_lat = robber_address[3]\n",
    "                    [ps_lon,ps_lat] = re.findall(r\"[-+]?\\d*\\.\\d+|\\d+\",robber_first_address_police_station_lon_lat)\n",
    "                    ps_location = (float(ps_lon),float(ps_lat))\n",
    "                    ####\n",
    "                    r_f_a_stripped = re.sub(alphanumeric,\" \",robber_first_address)\n",
    "                    r_f_a_stripped = re.sub(ps_remover,\" \",r_f_a_stripped)\n",
    "                    r_f_a_stripped = re.sub(village_remover,\" \",r_f_a_stripped)\n",
    "                    r_f_a_stripped = r_f_a_stripped.strip()\n",
    "\n",
    "                else:\n",
    "                    robber_first_address_id = robber_first_address =\\\n",
    "                    r_f_a_stripped = robber_first_address_police_station = ps_location = \\\n",
    "                    formatted_address = selected_address = distance_from_ps = None\n",
    "                    \n",
    "                if ps_location:\n",
    "                    formatted_address,address_lon,address_lat,selected_address,distance_from_ps =\\\n",
    "                    get_google_place(robber_first_address,r_f_a_stripped,ps_location)\n",
    "                csvrow.writerow([case_id, case, location, robber_id, robber_name, \\\n",
    "                                 robber_first_address_id, robber_first_address,r_f_a_stripped,formatted_address,\\\n",
    "                                 selected_address, (address_lon,address_lat),distance_from_ps,\\\n",
    "                                 robber_first_address_police_station,ps_location])\n",
    "\n"
   ]
  },
  {
   "cell_type": "code",
   "execution_count": null,
   "metadata": {},
   "outputs": [],
   "source": [
    "crimes_with_location() #Don't run this cell more than once. It takes time to load."
   ]
  },
  {
   "cell_type": "markdown",
   "metadata": {},
   "source": [
    "### Sample of data"
   ]
  },
  {
   "cell_type": "code",
   "execution_count": null,
   "metadata": {},
   "outputs": [],
   "source": [
    "crime_criminal_locations= pd.read_csv(\"distance_decay_hypothesis_2.csv\")\n",
    "\n",
    "crime_criminal_locations.head()[[\"Case\",\"Place of Occurance\",\"Criminal\",\"Address\",\\\n",
    "                          \"Google Suggested Address\",\\\n",
    "                         \"Address Location\",\"Address P.S.\",\"Address P.S Location\",\"PS Distance\"]]"
   ]
  },
  {
   "cell_type": "markdown",
   "metadata": {},
   "source": [
    "### We calculate the distance to crime and analyse the records\n"
   ]
  },
  {
   "cell_type": "code",
   "execution_count": null,
   "metadata": {},
   "outputs": [],
   "source": [
    "def get_distance(lon1,lat1,lon2,lat2):\n",
    "    (az12, az21, distance) = g.inv(lon1, lat1, lon2,lat2)\n",
    "    return distance/1000\n",
    "crime_criminal_locations = crime_criminal_locations[crime_criminal_locations[\"PS Distance\"]<20000]\n",
    "crime_criminal_locations[\"crime_longitude\"] = crime_criminal_locations.apply(lambda row: float(re.findall(r\"[-+]?\\d*\\.\\d+|\\d+\",row[\"Place of Occurance\"])[0]) , axis=1)\n",
    "crime_criminal_locations[\"crime_latitude\"] = crime_criminal_locations.\\\n",
    "apply(lambda row: float(re.findall(r\"[-+]?\\d*\\.\\d+|\\d+\",row[\"Place of Occurance\"])[1]) , axis=1)\n",
    "crime_criminal_locations[\"criminal_longitude\"] = crime_criminal_locations\\\n",
    ".apply(lambda row: float(re.findall(r\"[-+]?\\d*\\.\\d+|\\d+\",row[\"Address Location\"])[0]) , axis=1)\n",
    "crime_criminal_locations[\"criminal_latitude\"] = crime_criminal_locations.\\\n",
    "apply(lambda row: float(re.findall(r\"[-+]?\\d*\\.\\d+|\\d+\",row[\"Address Location\"])[1]) , axis=1)\n",
    "crime_criminal_locations[\"distance_travelled_for_crime\"] = crime_criminal_locations.\\\n",
    "apply(lambda row: get_distance(row[\"crime_longitude\"],row[\"crime_latitude\"],row[\"criminal_longitude\"],row[\"criminal_latitude\"]), axis=1)\n",
    "table = crime_criminal_locations[[\"Case\",\"Place of Occurance\",\"Criminal\",\\\n",
    "                                  \"Address\",\"distance_travelled_for_crime\"]]\n",
    "stats = crime_criminal_locations[\"distance_travelled_for_crime\"].describe()\n",
    "#     histogram = crime_criminal_locations[\"distance_travelled_for_crime\"].hist(bins=100)\n",
    "# return(table,stats,crime_criminal_locations[\"distance_travelled_for_crime\"])\n"
   ]
  },
  {
   "cell_type": "markdown",
   "metadata": {},
   "source": [
    "(Number of records is 163, mean distance is 12.8 km. However, some outliers have affected the mean, and the first quartile distance is only 1.8 km )"
   ]
  },
  {
   "cell_type": "code",
   "execution_count": null,
   "metadata": {},
   "outputs": [],
   "source": [
    "table.head(20)"
   ]
  },
  {
   "cell_type": "code",
   "execution_count": null,
   "metadata": {},
   "outputs": [],
   "source": [
    "stats"
   ]
  },
  {
   "cell_type": "markdown",
   "metadata": {},
   "source": [
    "What is the best way to test the hypothesis?"
   ]
  },
  {
   "cell_type": "code",
   "execution_count": null,
   "metadata": {},
   "outputs": [],
   "source": [
    "distance_travelled_for_crime = crime_criminal_locations[\"distance_travelled_for_crime\"]\n",
    "distance_travelled_for_crime.hist(bins=100)"
   ]
  },
  {
   "cell_type": "code",
   "execution_count": null,
   "metadata": {},
   "outputs": [],
   "source": [
    "# Removing outliers\n",
    "from scipy import stats\n",
    "distance_travelled_for_crime_ = distance_travelled_for_crime[(np.abs(stats.zscore(distance_travelled_for_crime)) < 1)]\n",
    "distance_travelled_for_crime_.hist(bins=100)"
   ]
  },
  {
   "cell_type": "markdown",
   "metadata": {},
   "source": [
    "### Lastly, we visualize our data"
   ]
  },
  {
   "cell_type": "code",
   "execution_count": null,
   "metadata": {},
   "outputs": [],
   "source": [
    "# We extract lat/lon data for every crime and associated criminals\n",
    "crime_criminal_locations = crime_criminal_locations[crime_criminal_locations[\"PS Distance\"]<20000]\n",
    "crime_criminal_locations[\"crime_longitude\"] = crime_criminal_locations.\\\n",
    "apply(lambda row: float(re.findall(r\"[-+]?\\d*\\.\\d+|\\d+\",row[\"Place of Occurance\"])[0]) , axis=1)\n",
    "crime_criminal_locations[\"crime_latitude\"] = crime_criminal_locations.\\\n",
    "apply(lambda row: float(re.findall(r\"[-+]?\\d*\\.\\d+|\\d+\",row[\"Place of Occurance\"])[1]) , axis=1)\n",
    "crime_criminal_locations[\"criminal_longitude\"] = crime_criminal_locations.\\\n",
    "apply(lambda row: float(re.findall(r\"[-+]?\\d*\\.\\d+|\\d+\",row[\"Address Location\"])[0]) , axis=1)\n",
    "crime_criminal_locations[\"criminal_latitude\"] = crime_criminal_locations.\\\n",
    "apply(lambda row: float(re.findall(r\"[-+]?\\d*\\.\\d+|\\d+\",row[\"Address Location\"])[1]) , axis=1)\n",
    "crime_wise_criminal_locations = crime_criminal_locations.groupby([crime_criminal_locations[\"Crime ID\"]])\n",
    "crime_locations = crime_criminal_locations.drop_duplicates(subset=\"Crime ID\", keep = \"first\")\n",
    "crime_lons_max = crime_criminal_locations[\"crime_longitude\"].max()\n",
    "crime_lons_min = crime_criminal_locations[\"crime_longitude\"].min()\n",
    "crime_lats_max = crime_criminal_locations[\"crime_latitude\"].max()\n",
    "crime_lats_min = crime_criminal_locations[\"crime_latitude\"].min()\n",
    "\n",
    "criminal_lons_max = crime_criminal_locations[\"criminal_longitude\"].max()\n",
    "criminal_lons_min = crime_criminal_locations[\"criminal_longitude\"].min()\n",
    "criminal_lats_max = crime_criminal_locations[\"criminal_latitude\"].max()\n",
    "criminal_lats_min = crime_criminal_locations[\"criminal_latitude\"].min()\n",
    "lons_max = max(crime_lons_max,criminal_lons_max)\n",
    "lons_min = min (crime_lons_min,criminal_lons_min)\n",
    "lats_max = max(crime_lats_max,criminal_lats_max)\n",
    "lats_min = min (crime_lats_min,criminal_lats_min)\n",
    "centre_lat = (lats_max+lats_min)/2\n",
    "centre_lon = (lons_max+lons_min)/2\n",
    "height = lats_max - lats_min\n",
    "width = lons_max - lons_min\n",
    "broadest = max(height,width)\n",
    "zoom = 13\n",
    "bounds = [[lats_max,lons_max],[lats_min,lons_min]]\n",
    "try:\n",
    "    zoom = getBoundsZoomLevel(bounds)\n",
    "except Exception as e:\n",
    "    print(str(e))\n",
    "    pass\n"
   ]
  },
  {
   "cell_type": "code",
   "execution_count": null,
   "metadata": {},
   "outputs": [],
   "source": [
    "# We create a Bokeh map\n",
    "def show_animation():\n",
    "    map_options = GMapOptions(lat=centre_lat, lng=centre_lon, map_type=\"roadmap\", zoom=zoom)\n",
    "    p = gmap(api_key, map_options, title=f\"Location of road-robberies and associated criminals\")\n",
    "    output_notebook()\n",
    "    # We start our animation\n",
    "    data = {'lats': [],\n",
    "            'lons': [],\n",
    "            \"colors\": [],\n",
    "            'label':[]\n",
    "            }\n",
    "    first_group = list(crime_wise_criminal_locations)[0][1]\n",
    "    crime_longitude = set()\n",
    "    crime_latitude = set()\n",
    "    criminal_longitude = []\n",
    "    criminal_latitude =[]\n",
    "    colors = []\n",
    "    label=[]\n",
    "    for row in first_group.index: \n",
    "        crime_longitude.add(first_group.loc[row][\"crime_longitude\"])\n",
    "        crime_latitude.add(first_group.loc[row][\"crime_latitude\"])\n",
    "        criminal_longitude.append(first_group.loc[row][\"criminal_longitude\"])\n",
    "        criminal_latitude.append(first_group.loc[row][\"criminal_latitude\"])\n",
    "        colors.append(\"red\")\n",
    "        label.append(\"Criminal\")\n",
    "    lons = list(crime_longitude)\n",
    "    lons.extend(criminal_longitude)\n",
    "    lats = list(crime_latitude)\n",
    "    lats.extend(criminal_latitude)\n",
    "    colors.insert(0,\"blue\")\n",
    "    label.insert(0,\"Crime\")\n",
    "    data[\"lats\"]= lats\n",
    "    data[\"lons\"] = lons\n",
    "    data[\"colors\"] = colors\n",
    "    data[\"label\"] = label\n",
    "    source = ColumnDataSource( data=data)\n",
    "    p.circle(x=\"lons\", y=\"lats\", size=8, fill_color=\"colors\", fill_alpha=0.8,legend_group='label', source=source)\n",
    "    handle = show(p, notebook_handle=True)\n",
    "    for crime,group in crime_wise_criminal_locations:\n",
    "        time.sleep(.5)\n",
    "        crime_longitude = set()\n",
    "        crime_latitude = set()\n",
    "        criminal_longitude = []\n",
    "        criminal_latitude =[]\n",
    "        new_colors = []\n",
    "        new_label=[]\n",
    "        for row in group.index:\n",
    "            crime_longitude.add(group.loc[row][\"crime_longitude\"])\n",
    "            crime_latitude.add(group.loc[row][\"crime_latitude\"])\n",
    "            criminal_longitude.append(group.loc[row][\"criminal_longitude\"])\n",
    "            criminal_latitude.append(group.loc[row][\"criminal_latitude\"])\n",
    "            new_colors.append(\"red\")\n",
    "            new_label.append(\"Criminal\")\n",
    "        new_lons = list(crime_longitude)\n",
    "        new_lons.extend(criminal_longitude)\n",
    "        new_lats = list(crime_latitude)\n",
    "        new_lats.extend(criminal_latitude)\n",
    "        new_colors.insert(0,\"blue\")\n",
    "        new_label.insert(0,\"Crime\")\n",
    "        new_data = {\"lats\":new_lats, \"lons\" :new_lons,\"colors\":new_colors, \"label\":new_label}\n",
    "        rollover = len(new_lons)\n",
    "        source.stream(new_data, rollover=rollover)\n",
    "        push_notebook(handle=handle)\n",
    "\n"
   ]
  },
  {
   "cell_type": "code",
   "execution_count": null,
   "metadata": {},
   "outputs": [],
   "source": [
    "show_animation()"
   ]
  },
  {
   "cell_type": "markdown",
   "metadata": {},
   "source": [
    "What are we doing here?"
   ]
  },
  {
   "cell_type": "code",
   "execution_count": null,
   "metadata": {},
   "outputs": [],
   "source": [
    "crime_wise_criminal_locations = crime_criminal_locations.groupby(\"Crime ID\")"
   ]
  },
  {
   "cell_type": "code",
   "execution_count": null,
   "metadata": {},
   "outputs": [],
   "source": [
    "crime_criminal_locations[\"mean_distance\"] =\\\n",
    "crime_wise_criminal_locations[[\"distance_travelled_for_crime\"]].transform(\"mean\")\n",
    "crime_criminal_locations.sort_values(\"mean_distance\", inplace=True)"
   ]
  },
  {
   "cell_type": "code",
   "execution_count": null,
   "metadata": {},
   "outputs": [],
   "source": [
    "crime_wise_criminal_locations = crime_criminal_locations.groupby(\"Crime ID\", sort=False)"
   ]
  },
  {
   "cell_type": "code",
   "execution_count": null,
   "metadata": {},
   "outputs": [],
   "source": [
    "show_animation()"
   ]
  },
  {
   "cell_type": "code",
   "execution_count": null,
   "metadata": {},
   "outputs": [],
   "source": []
  }
 ],
 "metadata": {
  "kernelspec": {
   "display_name": "Python 3",
   "language": "python",
   "name": "python3"
  },
  "language_info": {
   "codemirror_mode": {
    "name": "ipython",
    "version": 3
   },
   "file_extension": ".py",
   "mimetype": "text/x-python",
   "name": "python",
   "nbconvert_exporter": "python",
   "pygments_lexer": "ipython3",
   "version": "3.7.5"
  }
 },
 "nbformat": 4,
 "nbformat_minor": 4
}
